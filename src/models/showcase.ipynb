{
 "cells": [
  {
   "cell_type": "markdown",
   "metadata": {},
   "source": [
    "Set `jupyter.notebookFileRoot` to `${workspaceFolder}`."
   ]
  },
  {
   "cell_type": "code",
   "execution_count": 91,
   "metadata": {},
   "outputs": [],
   "source": [
    "import pandas as pd\n",
    "import numpy as np\n",
    "\n",
    "from sklearn.model_selection import train_test_split\n",
    "from sklearn.feature_extraction.text import TfidfVectorizer\n",
    "from sklearn.naive_bayes import ComplementNB\n",
    "from sklearn.linear_model import LogisticRegression\n",
    "\n",
    "import src.models.naive_bayes as naive_bayes\n",
    "import src.models.logreg as logreg\n",
    "from src.models.vectorization import CustomTfidfVectorizer\n",
    "import src.models.tokenization as tkn\n"
   ]
  },
  {
   "cell_type": "code",
   "execution_count": 92,
   "metadata": {},
   "outputs": [
    {
     "name": "stdout",
     "output_type": "stream",
     "text": [
      "tweets: size  8254\n",
      "['Why bother with these hearings when politicians have already made up their minds'\n",
      " \"'I’m gonna get my gaming on. — KSI (@KSI) February 5,  2019 A great way to get your gaming on is to make a quick video about it. Here are some examples: How I'\"\n",
      " \"'If you are unsure,  ask the people who will be listening to your tweet. Do not use #hashtags (e.g. #femalefirst) or #hashtags with the hashtag symbol (e.g. #'\"\n",
      " '@SJW Protests are good. Protests are bad. Protests are over. Protests are over. Protests are over. Protests are over. Protests are over. Protests are over. Protests are'\n",
      " \"'Mark Wahlberg: ... Let''s just say If I had been at the Oscars it wouldn''t have gone down that way...'\"\n",
      " 'I think Reply Guy Kim and Alex Chillwavve have the best tree in all of DIY Christmas 😝,'\n",
      " 'The Olympic Games are the pinnacle of sporting excellence. They are the pinnacle of sport. They are the pinnacle of sport. They are the pinnacle of sport. They are the pinnacle of sport. They are the pinnacle of sport. They'\n",
      " 'Would you bet on Programming to revolutionize the world? Why or why not? 💸 #Programming,'\n",
      " 'People are going to hate but at least she owned up to it unlike every other shit ref in the NBA'\n",
      " \"'Netflix is the greatest thing ever. You can watch anything on Netflix. It’s like being in a movie theater. I have been watching Netflix for years. My favorite movies are “The Godfather”,  “'\"]\n",
      "[0 1 1 1 0 0 1 1 0 1]\n",
      "AI tweets: 4127\n"
     ]
    }
   ],
   "source": [
    "#frame = pd.read_csv(\"dataset.csv\", delimiter=\",\", quotechar=\"'\", names=(\"tweet\", \"label\"))\n",
    "\n",
    "path = \"src/frontend_backend/datasetBalanced.xlsx\" # adjust to where you keep the dataset\n",
    "\n",
    "frame = pd.read_excel(\n",
    "    path, \n",
    "    sheet_name=\"Worksheet\", \n",
    "    header=None, \n",
    "    usecols=\"A:B\", \n",
    "    names=(\"tweet\", \"label\")\n",
    ")\n",
    "\n",
    "X = frame[\"tweet\"].values\n",
    "y = frame[\"label\"].values \n",
    "\n",
    "print(\"tweets: size \", X.size)\n",
    "print(X[:10])\n",
    "print(y[:10])\n",
    "\n",
    "print(\"AI tweets:\", np.count_nonzero(y))"
   ]
  },
  {
   "cell_type": "code",
   "execution_count": 93,
   "metadata": {},
   "outputs": [],
   "source": [
    "# Run if you wish to split phrases written in Pascal case\n",
    "X = list(map(tkn.split_pascals, X))"
   ]
  },
  {
   "cell_type": "code",
   "execution_count": 94,
   "metadata": {},
   "outputs": [],
   "source": [
    "X_train, X_test, y_train, y_test = train_test_split(X, y, \n",
    "                                                    #train_size=5000, test_size=1000\n",
    "                                                   )"
   ]
  },
  {
   "cell_type": "markdown",
   "metadata": {},
   "source": [
    "The accuracy of custom vectorization was above baseline on the unbalanced set, about 0.7. On the balanced set, however, its performance becomes abysmal. I therefore suspect that my implementation is incorrect."
   ]
  },
  {
   "cell_type": "code",
   "execution_count": 95,
   "metadata": {},
   "outputs": [],
   "source": [
    "# Custom-preprocessed sets\n",
    "custom_vec = CustomTfidfVectorizer(min_df=5, max_df_ratio=0.6)\n",
    "\n",
    "X_train_custom_prep = custom_vec.fit_transform(X_train)\n",
    "X_test_custom_prep = custom_vec.transform(X_test)"
   ]
  },
  {
   "cell_type": "code",
   "execution_count": 96,
   "metadata": {},
   "outputs": [],
   "source": [
    "# Sklearn-preprocessed sets\n",
    "sklearn_vec = TfidfVectorizer(min_df=5, max_df=0.6, sublinear_tf=True)\n",
    "\n",
    "X_train_sklearn_prep = sklearn_vec.fit_transform(X_train).toarray()\n",
    "X_test_sklearn_prep = sklearn_vec.transform(X_test).toarray()"
   ]
  },
  {
   "cell_type": "code",
   "execution_count": 97,
   "metadata": {},
   "outputs": [
    {
     "name": "stdout",
     "output_type": "stream",
     "text": [
      "Accuracy logreg custom/custom:  0.499031007751938\n",
      "Accuracy logreg sklearn/custom:  0.8464147286821705\n"
     ]
    }
   ],
   "source": [
    "# Custom logistic regression \n",
    "lr = logreg.LogisticRegressionModel()\n",
    "\n",
    "## on custom-preprocessed data\n",
    "lr.train(X_train_custom_prep, y_train)\n",
    "\n",
    "accuracy = (lr.classify(X_test_custom_prep) == y_test).mean()\n",
    "print(\"Accuracy logreg custom/custom: \", accuracy)\n",
    "\n",
    "## on sklearn-preprocessed data\n",
    "lr.train(X_train_sklearn_prep, y_train)\n",
    "\n",
    "accuracy = (lr.classify(X_test_sklearn_prep) == y_test).mean()\n",
    "print(\"Accuracy logreg sklearn/custom: \", accuracy)"
   ]
  },
  {
   "cell_type": "code",
   "execution_count": 98,
   "metadata": {},
   "outputs": [
    {
     "name": "stdout",
     "output_type": "stream",
     "text": [
      "Accuracy custom Bayes:  0.8900193798449613\n"
     ]
    }
   ],
   "source": [
    "# Custom naive Bayes\n",
    "nb = naive_bayes.NaiveBayesModel()\n",
    "\n",
    "# it uses its own preprocessing\n",
    "X_train_bayes = nb.preprocess_set(X_train)\n",
    "X_test_bayes = nb.preprocess_set(X_test)\n",
    "\n",
    "nb.train(X_train_bayes, y_train)\n",
    "\n",
    "results = nb.classify(X_test_bayes)\n",
    "correct = 0\n",
    "for result, label in zip(results, y_test):\n",
    "    if result == label:\n",
    "        correct += 1\n",
    "acc = correct/len(y_test)\n",
    "print(\"Accuracy custom Bayes: \", acc)"
   ]
  },
  {
   "cell_type": "markdown",
   "metadata": {},
   "source": [
    "---\n",
    "\n",
    "**A little addition**  \n",
    "Let us find the words most characteristic for AI. We will train naive Bayes on the whole balanced set and plot the distribution of human/ai ratios."
   ]
  },
  {
   "cell_type": "code",
   "execution_count": 101,
   "metadata": {},
   "outputs": [
    {
     "data": {
      "image/png": "[encoded data removed]",
      "text/plain": [
       "<Figure size 640x480 with 1 Axes>"
      ]
     },
     "metadata": {},
     "output_type": "display_data"
    }
   ],
   "source": [
    "nb.train(nb.preprocess_set(X), y)\n",
    "\n",
    "words = np.array(list(nb.dictionary.keys()))\n",
    "\n",
    "pairs = nb.dictionary.values()\n",
    "unzipped = list(zip(*pairs))\n",
    "\n",
    "human_counts = np.array(unzipped[0])\n",
    "ai_counts = np.array(unzipped[1])\n",
    "\n",
    "idx_both = np.logical_and(human_counts > 0, ai_counts > 0)\n",
    "\n",
    "import matplotlib.pyplot as plt\n",
    "names = [\"ai-exclusive\", \"used by both\", \"human-exclusive\"]\n",
    "values = [np.count_nonzero(human_counts == 0), \n",
    "          np.count_nonzero(idx_both),\n",
    "          np.count_nonzero(ai_counts == 0)]\n",
    "plt.figure()\n",
    "plt.bar(names, values)\n",
    "plt.suptitle(\"Words specific to AI and to humans\")\n",
    "plt.show()\n"
   ]
  },
  {
   "cell_type": "code",
   "execution_count": 90,
   "metadata": {},
   "outputs": [
    {
     "data": {
      "text/plain": [
       "Text(0.5, 1.0, 'Distribution of ratios')"
      ]
     },
     "execution_count": 90,
     "metadata": {},
     "output_type": "execute_result"
    },
    {
     "data": {
      "image/png": "[encoded data removed]",
      "text/plain": [
       "<Figure size 640x480 with 1 Axes>"
      ]
     },
     "metadata": {},
     "output_type": "display_data"
    }
   ],
   "source": [
    "ratios = human_counts[idx_both]/ai_counts[idx_both]\n",
    "\n",
    "\n",
    "import seaborn as sns\n",
    "p = sns.histplot(pd.DataFrame(ratios, columns=(\"ratios\",)), x=\"ratios\", \n",
    "                 binrange=(0, 5), #binwidth=0.1\n",
    "                )\n",
    "p.set_title(\"Distribution of ratios\")"
   ]
  },
  {
   "cell_type": "code",
   "execution_count": 102,
   "metadata": {},
   "outputs": [
    {
     "name": "stdout",
     "output_type": "stream",
     "text": [
      "Typical AI words that have been used by humans\n",
      "['latest' 'hashtag' 'hashtags' 'possibilities' 'endless' 'casual' 'hey'\n",
      " 'tweeting' 'impact' 'town' 'bright' 'tweet' 'create' 'include'\n",
      " 'application' 'article' 'paving' 'transforming' 'somewhere' 'ideas'\n",
      " 'diversity' 'lately' 'basics' 'raise' 'inspiration' 'discuss' 'describe'\n",
      " 'moves' 'tweets' 'followers' 'weirdest' 'topic' 'globalevents' 'movement'\n",
      " 'intersection' 'lie' 'emoji' 'spread' 'shake' 'startups' 'revolutionize'\n",
      " 'received' 'advice' 'sharing' 'glad' 'use' 'etc' 'word' 'share'\n",
      " 'creative' 'example' 'twitter' 'term' 'message' 'global' 'following'\n",
      " 'news' 'underrated' 'language' 'settle' 'andor' 'daily' 'tuned'\n",
      " 'knowledge' 'step' 'keeps' 'excited' 'write' 'iphone' 'insights' 'cyber'\n",
      " 'thanksgiving' 'don' 'easier' 'sure' 'thoughts' 'add' 'fan' 'connect'\n",
      " 'climate' 'tag' 'exciting' 'weather' 'users' 'solution' 'service'\n",
      " 'friday' 'events' 'make' 'todays' 'feminist' 'keeping' 'debate' 'ways'\n",
      " 'change' 'also' 'trending' 'hand' 'pets' 'opportunity' 'updates' 'wisdom'\n",
      " 'note' 'handle' 'john' 'sports' 'focus' 'writing' 'talking' 'short'\n",
      " 'whats' 'april' 'english' 'relevant' 'user' 'consider' 'easy'\n",
      " 'importance' 'offensive' 'digital' 'cooking' 'specific' 'conversation'\n",
      " 'worldnews' 'breakingnews' 'follow' 'social' 'words' 'lets' 'subject'\n",
      " 'worry' 'active' 'waste' 'cunt' 'fresh' 'tool' 'scientist' 'format'\n",
      " 'often' 'growing' 'world' 'list' 'hacks' 'gala' 'important' 'bowl'\n",
      " 'newyear' 'states' 'boring' 'youve' 'everyones' 'passion' 'celebrity'\n",
      " 'comes' 'big' 'familiar' 'happens' 'goods' 'basketball' 'investing'\n",
      " 'lose' 'countries' 'popular' 'express' 'expert' 'likely' 'reality'\n",
      " 'great' 'fun' 'statement' 'development' 'lives' 'talk' 'going' 'politics'\n",
      " 'place' 'interested' 'worlds' 'breaking' 'mental' 'search' 'or' 'heard'\n",
      " 'magic' 'something' 'ability' 'speaking' 'kitchen' 'choose' 'united'\n",
      " 'competition' 'reasons' 'sporting' 'title' 'clever' 'known' 'startup'\n",
      " 'whos' 'results' 'google' 'easiest' 'figure' 'worried' 'examples'\n",
      " 'products' 'happening' 'deep' 'profile' 'mobile' 'thing' 'lot' 'thinking'\n",
      " 'met' 'phone' 'bit' 'socialjustice' 'future' 'way' 'able' 'experience'\n",
      " 'project' 'machine' 'am' 'few' 'im' 'across' 'web' 'youre' 'messages'\n",
      " 'related' 'teacher' 'feeling' 'recently' 'used' 'fact' 'explore'\n",
      " 'personal' 'interesting' 'monday' 'promote' 'cup' 'bet' 'blm' 'neither'\n",
      " 'account' 'about' 'master' 'your' 'changed' 'data' 'media' 'health'\n",
      " 'sort' 'long' 'humor' 'honest' 'california' 'sick' 'complex' 'angeles'\n",
      " 'wondered' 'guide' 'url' 'instructions' 'garden' 'pair' 'above' 'justice'\n",
      " 'fish' 'july' 'languages' 'mistake' 'photo' 'suggestions' 'includes'\n",
      " 'oscarssowhite' 'hear' 'allowed' 'mind' 'effort' 'changing' 'february'\n",
      " 'rude' 'interests' 'sun' 'busy' 'awesome' 'learning' 'amazing' 'youll'\n",
      " 'noticed' 'goat' 'can' 'app' 'simple' 'october' 'improve' 'feature'\n",
      " 'professional' 'weeks']\n",
      "[0.00892857 0.00980392 0.01351351 0.01388889 0.01408451 0.01492537\n",
      " 0.02272727 0.02439024 0.025      0.02631579 0.02777778 0.02777778\n",
      " 0.02898551 0.02941176 0.02941176 0.03030303 0.03030303 0.03030303\n",
      " 0.03125    0.03174603 0.03225806 0.03448276 0.03571429 0.03571429\n",
      " 0.03636364 0.03703704 0.03703704 0.03773585 0.03787879 0.03797468\n",
      " 0.03846154 0.03846154 0.04       0.04       0.04166667 0.04166667\n",
      " 0.04347826 0.04444444 0.04545455 0.04545455 0.04545455 0.04761905\n",
      " 0.04761905 0.04878049 0.05       0.05027933 0.05128205 0.05194805\n",
      " 0.05217391 0.05333333 0.05333333 0.05353319 0.05405405 0.05454545\n",
      " 0.05479452 0.05494505 0.05533597 0.05882353 0.06       0.0625\n",
      " 0.0625     0.06451613 0.06451613 0.06666667 0.06818182 0.06896552\n",
      " 0.06976744 0.07058824 0.07142857 0.07407407 0.07692308 0.07692308\n",
      " 0.07692308 0.07692308 0.07777778 0.078125   0.08       0.08035714\n",
      " 0.08108108 0.08333333 0.08333333 0.08333333 0.08333333 0.08333333\n",
      " 0.08571429 0.08571429 0.08695652 0.08888889 0.09       0.09090909\n",
      " 0.09090909 0.09090909 0.09375    0.09677419 0.09722222 0.09777778\n",
      " 0.09803922 0.1        0.1        0.1        0.1        0.1\n",
      " 0.1        0.1        0.1        0.10204082 0.10344828 0.10344828\n",
      " 0.10569106 0.10714286 0.11065574 0.11111111 0.11111111 0.11111111\n",
      " 0.11111111 0.11111111 0.11111111 0.11111111 0.11111111 0.11111111\n",
      " 0.11363636 0.11764706 0.11764706 0.12       0.12       0.12068966\n",
      " 0.12149533 0.12328767 0.12418301 0.125      0.125      0.125\n",
      " 0.125      0.125      0.125      0.125      0.125      0.125\n",
      " 0.125      0.125      0.12745098 0.12765957 0.12903226 0.13157895\n",
      " 0.13333333 0.13333333 0.13333333 0.13333333 0.13333333 0.13580247\n",
      " 0.13793103 0.13793103 0.13888889 0.13888889 0.14074074 0.14285714\n",
      " 0.14285714 0.14285714 0.14285714 0.14285714 0.14285714 0.14285714\n",
      " 0.14285714 0.14285714 0.14285714 0.14285714 0.14285714 0.14285714\n",
      " 0.14285714 0.14285714 0.14705882 0.14814815 0.14925373 0.14964371\n",
      " 0.15151515 0.15254237 0.15384615 0.15384615 0.15384615 0.15384615\n",
      " 0.15789474 0.15981735 0.16       0.16       0.16111111 0.16666667\n",
      " 0.16666667 0.16666667 0.16666667 0.16666667 0.16666667 0.16666667\n",
      " 0.16666667 0.16666667 0.16666667 0.16666667 0.16666667 0.16666667\n",
      " 0.16666667 0.16666667 0.16666667 0.16666667 0.16666667 0.16666667\n",
      " 0.16666667 0.16666667 0.16666667 0.16666667 0.16666667 0.16783217\n",
      " 0.1686747  0.17021277 0.17073171 0.17142857 0.17241379 0.17391304\n",
      " 0.17391304 0.17405063 0.175      0.17647059 0.17777778 0.17777778\n",
      " 0.17857143 0.17857143 0.17932752 0.17948718 0.18       0.18072289\n",
      " 0.18181818 0.18181818 0.18181818 0.18181818 0.18181818 0.18421053\n",
      " 0.18421053 0.18518519 0.18518519 0.18604651 0.18604651 0.1875\n",
      " 0.18965517 0.19047619 0.19047619 0.19047619 0.19130435 0.1914324\n",
      " 0.19230769 0.19323671 0.19444444 0.19607843 0.1969697  0.2\n",
      " 0.2        0.2        0.2        0.2        0.2        0.2\n",
      " 0.2        0.2        0.2        0.2        0.2        0.2\n",
      " 0.2        0.2        0.2        0.2        0.2        0.2\n",
      " 0.2        0.2        0.2        0.2        0.2        0.2\n",
      " 0.2        0.2        0.2        0.2        0.2        0.2\n",
      " 0.2        0.2        0.2        0.2        0.20833333 0.20967742\n",
      " 0.21126761 0.21212121 0.21428571 0.21428571 0.21674877 0.21875\n",
      " 0.21875    0.22222222 0.22222222 0.22222222 0.22222222 0.22222222]\n"
     ]
    }
   ],
   "source": [
    "top = np.argsort(ratios)[:300]\n",
    "\n",
    "print(\"Typical AI words that have been used by humans\")\n",
    "print(words[idx_both][top])\n",
    "print(ratios[top])"
   ]
  },
  {
   "cell_type": "markdown",
   "metadata": {},
   "source": [
    "---"
   ]
  },
  {
   "cell_type": "code",
   "execution_count": 99,
   "metadata": {},
   "outputs": [
    {
     "name": "stdout",
     "output_type": "stream",
     "text": [
      "Accuracy logreg custom/sklearn:  0.499031007751938\n",
      "Accuracy logreg sklearn/sklearn:  0.8609496124031008\n"
     ]
    }
   ],
   "source": [
    "# Sklearn's LogisticRegression\n",
    "slr = LogisticRegression(penalty=None)\n",
    "\n",
    "## on custom-preprocessed data\n",
    "slr.fit(X_train_custom_prep, y_train)\n",
    "\n",
    "accuracy = (slr.predict(X_test_custom_prep) == y_test).mean()\n",
    "print(\"Accuracy logreg custom/sklearn: \", accuracy)\n",
    "\n",
    "## on sklearn-preprocessed data\n",
    "slr.fit(X_train_sklearn_prep, y_train)\n",
    "\n",
    "accuracy = (slr.predict(X_test_sklearn_prep) == y_test).mean()\n",
    "print(\"Accuracy logreg sklearn/sklearn: \", accuracy)"
   ]
  },
  {
   "cell_type": "code",
   "execution_count": 100,
   "metadata": {},
   "outputs": [
    {
     "name": "stdout",
     "output_type": "stream",
     "text": [
      "Accuracy Bayes custom/sklearn:  0.500968992248062\n",
      "Accuracy Bayes sklearn/sklearn:  0.8633720930232558\n"
     ]
    }
   ],
   "source": [
    "# Sklearn's ComplementNB\n",
    "cnb = ComplementNB()\n",
    "\n",
    "## on custom-preprocessed data\n",
    "cnb.fit(X_train_custom_prep, y_train)\n",
    "\n",
    "accuracy = (cnb.predict(X_test_custom_prep) == y_test).mean()\n",
    "print(\"Accuracy Bayes custom/sklearn: \", accuracy)\n",
    "\n",
    "## on sklearn-preprocessed data\n",
    "cnb.fit(X_train_sklearn_prep, y_train)\n",
    "\n",
    "accuracy = (cnb.predict(X_test_sklearn_prep) == y_test).mean()\n",
    "print(\"Accuracy Bayes sklearn/sklearn: \", accuracy)"
   ]
  }
 ],
 "metadata": {
  "kernelspec": {
   "display_name": "base",
   "language": "python",
   "name": "python3"
  },
  "language_info": {
   "codemirror_mode": {
    "name": "ipython",
    "version": 3
   },
   "file_extension": ".py",
   "mimetype": "text/x-python",
   "name": "python",
   "nbconvert_exporter": "python",
   "pygments_lexer": "ipython3",
   "version": "3.12.7"
  }
 },
 "nbformat": 4,
 "nbformat_minor": 2
}
